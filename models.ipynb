{
 "cells": [
  {
   "cell_type": "code",
   "execution_count": null,
   "metadata": {},
   "outputs": [],
   "source": [
    "import pandas as pd\n",
    "from tqdm import tqdm\n",
    "\n",
    "df = pd.read_excel(\"preprocessed.xlsx\")\n",
    "columns_ignore = ['name', 'released', 'score', 'votes', 'gross', 'same_year']"
   ]
  },
  {
   "cell_type": "code",
   "execution_count": null,
   "metadata": {},
   "outputs": [],
   "source": [
    "from sklearn.model_selection import train_test_split\n",
    "from sklearn.preprocessing import PolynomialFeatures\n",
    "\n",
    "poly = PolynomialFeatures(degree=1, interaction_only=True, include_bias=False)\n",
    "\n",
    "X = df.drop(\n",
    "    columns_ignore,\n",
    "    axis=1,\n",
    ")\n",
    "X = poly.fit_transform(X)\n",
    "y = df[\"score\"]\n",
    "\n",
    "X, X_test_final, y, y_test_final = train_test_split(X, y, test_size=0.2, random_state=42)"
   ]
  },
  {
   "cell_type": "markdown",
   "metadata": {},
   "source": [
    "# Models"
   ]
  },
  {
   "cell_type": "code",
   "execution_count": null,
   "metadata": {},
   "outputs": [],
   "source": [
    "from sklearn.metrics import mean_squared_error, r2_score, mean_absolute_error\n",
    "import matplotlib.pyplot as plt\n",
    "\n",
    "\n",
    "def plot_predictions(y_test, y_pred):\n",
    "    plt.scatter(y_test, y_pred, color=\"blue\")\n",
    "    plt.xlabel(\"True Values\")\n",
    "    plt.ylabel(\"Predictions\")\n",
    "    plt.title(\"Predictions vs. Truth\")\n",
    "    plt.show()\n",
    "\n",
    "\n",
    "def evaluate(model, X, y):\n",
    "    pred = model.predict(X)\n",
    "    print(\"Mean squared error: %.2f\" % mean_squared_error(y, pred))\n",
    "    print(\"Mean absolute error: %.2f\" % mean_absolute_error(y, pred))\n",
    "    print(\"Coefficient of determination: %.2f\" % r2_score(y, pred))\n",
    "    plot_predictions(y, pred)"
   ]
  },
  {
   "cell_type": "code",
   "execution_count": null,
   "metadata": {},
   "outputs": [],
   "source": [
    "models = []"
   ]
  },
  {
   "cell_type": "markdown",
   "metadata": {},
   "source": [
    "## LinearRegression"
   ]
  },
  {
   "cell_type": "code",
   "execution_count": null,
   "metadata": {},
   "outputs": [],
   "source": [
    "from sklearn.linear_model import LinearRegression\n",
    "\n",
    "for i in range(30):\n",
    "    X_train, X_test, y_train, y_test = train_test_split(X, y, test_size=0.2)\n",
    "    \n",
    "    linear_regressor = LinearRegression()\n",
    "    linear_regressor = linear_regressor.fit(X_train, y_train)\n",
    "\n",
    "    models.append((f\"linreg{i}\", linear_regressor))"
   ]
  },
  {
   "cell_type": "code",
   "execution_count": null,
   "metadata": {},
   "outputs": [],
   "source": [
    "evaluate(linear_regressor, X_train, y_train)\n",
    "evaluate(linear_regressor, X_test, y_test)"
   ]
  },
  {
   "cell_type": "markdown",
   "metadata": {},
   "source": [
    "## DecisionTree"
   ]
  },
  {
   "cell_type": "code",
   "execution_count": null,
   "metadata": {},
   "outputs": [],
   "source": [
    "from sklearn.tree import DecisionTreeRegressor\n",
    "\n",
    "\n",
    "for max_leaf_nodes in range(10):\n",
    "    for max_depth in range(10):\n",
    "        for criterion in [\"gini\", \"entropy\", \"log_loss\"]:\n",
    "            X_train, X_test, y_train, y_test = train_test_split(X, y, test_size=0.2)\n",
    "        \n",
    "            decision_tree = DecisionTreeRegressor(max_leaf_nodes=max_leaf_nodes*2, max_depth=max_depth*2, criterion=criterion)\n",
    "            decision_tree = decision_tree.fit(X_train, y_train)\n",
    "\n",
    "            models.append((f\"dt{max_leaf_nodes},{max_depth},{criterion}\", decision_tree))\n",
    "    \n",
    "decision_tree = DecisionTreeRegressor(max_depth=6)\n",
    "decision_tree = decision_tree.fit(X_train, y_train)"
   ]
  },
  {
   "cell_type": "code",
   "execution_count": null,
   "metadata": {},
   "outputs": [],
   "source": [
    "evaluate(decision_tree, X_train, y_train)\n",
    "evaluate(decision_tree, X_test, y_test)"
   ]
  },
  {
   "cell_type": "markdown",
   "metadata": {},
   "source": [
    "## Forest Regressor"
   ]
  },
  {
   "cell_type": "code",
   "execution_count": null,
   "metadata": {},
   "outputs": [],
   "source": [
    "from sklearn.ensemble import RandomForestRegressor\n",
    "import random\n",
    "\n",
    "n_iters = 0\n",
    "\n",
    "hyperparameters = set()\n",
    "for max_depth in random.sample(range(1, 11), 3):\n",
    "    # n_estimators\n",
    "    for n_estimators in random.sample(range(50, 500), 10):\n",
    "        # max_features\n",
    "        for max_features in random.sample(range(1, 11), 3):\n",
    "            # min_samples_split\n",
    "            for min_samples_split in random.sample(range(2, 11), 3):\n",
    "                # min_samples_leaf\n",
    "                for min_samples_leaf in random.sample(range(1, 11), 3):\n",
    "                    hyperparameters.add((max_depth, n_estimators, max_features, min_samples_split, min_samples_leaf))\n",
    "\n",
    "for i in range(3):\n",
    "    X_train, X_test, y_train, y_test = train_test_split(X, y, test_size=0.2)\n",
    "    \n",
    "    forest = RandomForestRegressor()\n",
    "    forest = forest.fit(X_train, y_train)\n",
    "\n",
    "    for max_depth, n_estimators, max_features, min_samples_split, min_samples_leaf in tqdm(hyperparameters):\n",
    "        forest = RandomForestRegressor(\n",
    "            max_depth=max_depth*2,\n",
    "            n_estimators=n_estimators,\n",
    "            max_features=max_features*3,\n",
    "            min_samples_split=min_samples_split,\n",
    "            min_samples_leaf=min_samples_leaf,\n",
    "        )\n",
    "        forest = forest.fit(X_train, y_train)\n",
    "        n_iters += 1\n",
    "        models.append((f\"forest{n_iters}\", forest))\n",
    "\n",
    "for i in n_iters(range(10)):\n",
    "    X_train, X_test, y_train, y_test = train_test_split(X, y, test_size=0.2)\n",
    "    forest = RandomForestRegressor()\n",
    "    forest = forest.fit(X_train, y_train)\n",
    "    n_iters += 1\n",
    "    models.append((f\"forest{n_iters}\", forest))"
   ]
  },
  {
   "cell_type": "code",
   "execution_count": null,
   "metadata": {},
   "outputs": [],
   "source": [
    "evaluate(forest, X_train, y_train)\n",
    "evaluate(forest, X_test, y_test)"
   ]
  },
  {
   "cell_type": "markdown",
   "metadata": {},
   "source": [
    "## Gradient Boosting"
   ]
  },
  {
   "cell_type": "code",
   "execution_count": 44,
   "metadata": {},
   "outputs": [
    {
     "name": "stderr",
     "output_type": "stream",
     "text": [
      "100%|██████████| 9/9 [00:01<00:00,  6.54it/s]\n",
      "100%|██████████| 9/9 [00:01<00:00,  6.75it/s]\n",
      "100%|██████████| 9/9 [00:01<00:00,  6.38it/s]\n",
      "100%|██████████| 9/9 [00:01<00:00,  6.21it/s]\n",
      "100%|██████████| 9/9 [00:01<00:00,  6.21it/s]\n",
      "100%|██████████| 9/9 [00:01<00:00,  6.25it/s]\n",
      "100%|██████████| 9/9 [00:01<00:00,  6.49it/s]\n",
      "100%|██████████| 9/9 [00:01<00:00,  6.38it/s]\n",
      "100%|██████████| 9/9 [00:01<00:00,  6.89it/s]\n",
      "100%|██████████| 9/9 [00:01<00:00,  6.84it/s]\n",
      "100%|██████████| 9/9 [00:01<00:00,  6.54it/s]\n",
      "100%|██████████| 9/9 [00:01<00:00,  5.83it/s]\n",
      "100%|██████████| 9/9 [00:01<00:00,  6.29it/s]\n",
      "100%|██████████| 9/9 [00:01<00:00,  6.29it/s]\n",
      "100%|██████████| 9/9 [00:01<00:00,  6.51it/s]\n",
      "100%|██████████| 9/9 [00:01<00:00,  6.51it/s]\n",
      "100%|██████████| 9/9 [00:01<00:00,  6.81it/s]\n",
      "100%|██████████| 9/9 [00:01<00:00,  6.89it/s]\n",
      "100%|██████████| 9/9 [00:01<00:00,  6.56it/s]\n",
      "100%|██████████| 9/9 [00:01<00:00,  6.56it/s]\n",
      "100%|██████████| 9/9 [00:01<00:00,  6.34it/s]\n",
      "100%|██████████| 9/9 [00:01<00:00,  6.31it/s]\n",
      "100%|██████████| 9/9 [00:01<00:00,  6.45it/s]\n",
      "100%|██████████| 9/9 [00:01<00:00,  6.50it/s]\n",
      "100%|██████████| 9/9 [00:01<00:00,  6.91it/s]\n",
      "100%|██████████| 9/9 [00:01<00:00,  6.88it/s]\n",
      "100%|██████████| 9/9 [00:01<00:00,  6.52it/s]\n",
      "100%|██████████| 9/9 [00:01<00:00,  6.53it/s]\n",
      "100%|██████████| 9/9 [00:01<00:00,  6.32it/s]\n",
      "100%|██████████| 9/9 [00:01<00:00,  6.34it/s]\n",
      "100%|██████████| 9/9 [00:01<00:00,  6.48it/s]\n",
      "100%|██████████| 9/9 [00:01<00:00,  6.48it/s]\n",
      "100%|██████████| 9/9 [00:01<00:00,  6.91it/s]\n",
      "100%|██████████| 9/9 [00:01<00:00,  6.90it/s]\n",
      "100%|██████████| 9/9 [00:01<00:00,  6.49it/s]\n",
      "100%|██████████| 9/9 [00:01<00:00,  6.52it/s]\n",
      "100%|██████████| 9/9 [00:01<00:00,  6.27it/s]\n",
      "100%|██████████| 9/9 [00:01<00:00,  5.79it/s]\n",
      "100%|██████████| 9/9 [00:01<00:00,  6.31it/s]\n",
      "100%|██████████| 9/9 [00:01<00:00,  6.50it/s]\n",
      "100%|██████████| 9/9 [00:01<00:00,  6.89it/s]\n",
      "100%|██████████| 9/9 [00:01<00:00,  6.90it/s]\n",
      "100%|██████████| 9/9 [00:01<00:00,  6.56it/s]\n",
      "100%|██████████| 9/9 [00:01<00:00,  6.40it/s]\n",
      "100%|██████████| 9/9 [00:01<00:00,  6.28it/s]\n",
      "100%|██████████| 9/9 [00:01<00:00,  6.30it/s]\n",
      "100%|██████████| 9/9 [00:01<00:00,  6.49it/s]\n",
      "100%|██████████| 9/9 [00:01<00:00,  6.51it/s]\n",
      "100%|██████████| 9/9 [00:01<00:00,  6.92it/s]\n",
      "100%|██████████| 9/9 [00:01<00:00,  6.92it/s]\n",
      "100%|██████████| 9/9 [00:01<00:00,  6.55it/s]\n",
      "100%|██████████| 9/9 [00:01<00:00,  6.54it/s]\n",
      "100%|██████████| 9/9 [00:01<00:00,  6.34it/s]\n",
      "100%|██████████| 9/9 [00:01<00:00,  6.31it/s]\n",
      "100%|██████████| 9/9 [00:01<00:00,  6.45it/s]\n",
      "100%|██████████| 9/9 [00:01<00:00,  6.49it/s]\n",
      "100%|██████████| 9/9 [00:01<00:00,  6.92it/s]\n",
      "100%|██████████| 9/9 [00:01<00:00,  6.92it/s]\n",
      "100%|██████████| 9/9 [00:01<00:00,  6.57it/s]\n",
      "100%|██████████| 9/9 [00:01<00:00,  6.58it/s]\n",
      "100%|██████████| 9/9 [00:01<00:00,  6.36it/s]\n",
      "100%|██████████| 9/9 [00:01<00:00,  6.34it/s]\n",
      "100%|██████████| 9/9 [00:01<00:00,  6.47it/s]\n",
      "100%|██████████| 9/9 [00:01<00:00,  6.49it/s]\n",
      "100%|██████████| 9/9 [00:01<00:00,  6.91it/s]\n",
      "100%|██████████| 9/9 [00:01<00:00,  6.91it/s]\n",
      "100%|██████████| 9/9 [00:01<00:00,  6.56it/s]\n",
      "100%|██████████| 9/9 [00:01<00:00,  6.57it/s]\n",
      "100%|██████████| 9/9 [00:01<00:00,  6.37it/s]\n",
      "100%|██████████| 9/9 [00:01<00:00,  6.36it/s]\n",
      "100%|██████████| 9/9 [00:01<00:00,  6.44it/s]\n",
      "100%|██████████| 9/9 [00:01<00:00,  6.50it/s]\n",
      "100%|██████████| 9/9 [00:01<00:00,  6.93it/s]\n",
      "100%|██████████| 9/9 [00:01<00:00,  6.90it/s]\n",
      "100%|██████████| 9/9 [00:01<00:00,  6.53it/s]\n",
      "100%|██████████| 9/9 [00:01<00:00,  6.59it/s]\n",
      "100%|██████████| 9/9 [00:01<00:00,  6.36it/s]\n",
      "100%|██████████| 9/9 [00:01<00:00,  6.35it/s]\n",
      "100%|██████████| 9/9 [00:01<00:00,  6.40it/s]\n",
      "100%|██████████| 9/9 [00:01<00:00,  6.46it/s]\n"
     ]
    }
   ],
   "source": [
    "from sklearn.ensemble import GradientBoostingRegressor\n",
    "\n",
    "for lr in range(10):\n",
    "    for loss in ['squared_error', 'absolute_error', 'huber', 'quantile']:\n",
    "        for criterion in ['friedman_mse', 'squared_error']:\n",
    "            for n_estimators in tqdm(range(1, 10)):\n",
    "                X_train, X_test, y_train, y_test = train_test_split(X, y, test_size=0.2)\n",
    "                \n",
    "                gradient_boosting = GradientBoostingRegressor(learning_rate= 10**-lr, criterion=criterion, loss=loss, n_estimators=n_estimators*2)\n",
    "                gradient_boosting = gradient_boosting.fit(X_train, y_train)\n",
    "\n",
    "                models.append((f\"gradient_boosting{lr}, {criterion}, {loss}, {n_estimators}\", gradient_boosting))"
   ]
  },
  {
   "cell_type": "code",
   "execution_count": null,
   "metadata": {},
   "outputs": [],
   "source": [
    "evaluate(gradient_boosting, X_train, y_train)\n",
    "evaluate(gradient_boosting, X_test, y_test)"
   ]
  },
  {
   "cell_type": "code",
   "execution_count": null,
   "metadata": {},
   "outputs": [],
   "source": [
    "from sklearn.neural_network import MLPRegressor\n",
    "\n",
    "for i in range(10):\n",
    "    X_train, X_test, y_train, y_test = train_test_split(X, y, test_size=0.2)\n",
    "    \n",
    "    mlp = MLPRegressor(hidden_layer_sizes=64, activation='logistic', solver='sgd', alpha=0, batch_size=1, learning_rate_init=.01, shuffle=True, momentum=0, n_iter_no_change=50, max_iter=250)\n",
    "    mlp = mlp.fit(X_train, y_train)\n",
    "\n",
    "    models.append((f\"mlp{i}\", mlp))"
   ]
  },
  {
   "cell_type": "code",
   "execution_count": null,
   "metadata": {},
   "outputs": [],
   "source": [
    "evaluate(mlp, X_train, y_train)\n",
    "evaluate(mlp, X_test, y_test)"
   ]
  },
  {
   "cell_type": "markdown",
   "metadata": {},
   "source": [
    "## KNN"
   ]
  },
  {
   "cell_type": "code",
   "execution_count": 37,
   "metadata": {},
   "outputs": [
    {
     "name": "stderr",
     "output_type": "stream",
     "text": [
      "100%|██████████| 8000/8000 [02:57<00:00, 45.13it/s]\n"
     ]
    }
   ],
   "source": [
    "from sklearn.neighbors import KNeighborsRegressor\n",
    "\n",
    "hyperparameters = set()\n",
    "for n_neighbors in range(1, 11):\n",
    "    for weights in ['uniform', 'distance']:\n",
    "        for algorithm in ['auto', 'ball_tree', 'kd_tree', 'brute']:\n",
    "            for leaf_size in range(1, 11):\n",
    "                for p in range(1, 11):\n",
    "                    hyperparameters.add((n_neighbors, weights, algorithm, leaf_size, p))\n",
    "\n",
    "n_iters = 0\n",
    "\n",
    "for i in range(10):\n",
    "    X_train, X_test, y_train, y_test = train_test_split(X, y, test_size=0.2)\n",
    "    \n",
    "    knn = KNeighborsRegressor()\n",
    "    knn = knn.fit(X_train, y_train)\n",
    "\n",
    "    n_iters += 1\n",
    "    models.append((f\"knn{n_iters}\", knn))\n",
    "\n",
    "for n_neighbors, weights, algorithm, leaf_size, p in tqdm(hyperparameters):\n",
    "    knn = KNeighborsRegressor(n_neighbors=n_neighbors, weights=weights, algorithm=algorithm, leaf_size=leaf_size, p=p)\n",
    "    knn = knn.fit(X_train, y_train)\n",
    "    n_iters += 1\n",
    "    models.append((f\"knn{n_iters}\", knn))"
   ]
  },
  {
   "cell_type": "code",
   "execution_count": null,
   "metadata": {},
   "outputs": [],
   "source": [
    "evaluate(knn, X_train, y_train)\n",
    "evaluate(knn, X_test, y_test)"
   ]
  },
  {
   "cell_type": "markdown",
   "metadata": {},
   "source": [
    "## Clustering"
   ]
  },
  {
   "cell_type": "code",
   "execution_count": null,
   "metadata": {},
   "outputs": [],
   "source": [
    "from sklearn.cluster import KMeans\n",
    "\n",
    "hyperparameters = set()\n",
    "for n_clusters in range(1, 11):\n",
    "    for init in ['k-means++', 'random']:\n",
    "        for n_init in range(1, 11):\n",
    "            for max_iter in range(1, 11):\n",
    "                for tol in range(1, 11):\n",
    "                    hyperparameters.add((n_clusters, init, n_init, max_iter, tol))\n",
    "\n",
    "n_iters = 0\n",
    "\n",
    "for i in range(10):\n",
    "    X_train, X_test, y_train, y_test = train_test_split(X, y, test_size=0.2)\n",
    "    \n",
    "    kmeans = KMeans()\n",
    "    kmeans = kmeans.fit(X_train)\n",
    "\n",
    "    n_iters += 1\n",
    "    models.append((f\"kmeans{n_iters}\", kmeans))\n",
    "\n",
    "for \n",
    "for n_clusters, init, n_init, max_iter, tol in tqdm(hyperparameters):\n",
    "    kmeans = KMeans(n_clusters=n_clusters, init=init, n_init=n_init, max_iter=max_iter, tol=tol)\n",
    "    kmeans = kmeans.fit(X_train)\n",
    "    n_iters += 1\n",
    "    models.append((f\"kmeans{n_iters}\", kmeans))"
   ]
  },
  {
   "cell_type": "code",
   "execution_count": null,
   "metadata": {},
   "outputs": [],
   "source": [
    "evaluate(kmeans, X_train, y_train)\n",
    "evaluate(kmeans, X_test, y_test)"
   ]
  },
  {
   "cell_type": "markdown",
   "metadata": {},
   "source": [
    "# Ensemble"
   ]
  },
  {
   "cell_type": "markdown",
   "metadata": {},
   "source": [
    "### Voting Regressor"
   ]
  },
  {
   "cell_type": "code",
   "execution_count": null,
   "metadata": {},
   "outputs": [],
   "source": [
    "# Ensemble\n",
    "from sklearn.ensemble import VotingRegressor\n",
    "\n",
    "def weight(model):\n",
    "    return 1/mean_squared_error(model.predict(X_test), y_test)\n",
    "\n",
    "ereg = VotingRegressor(estimators=[('knn', knn), ('rf', forest), ('gb', gradient_boosting), ('lr', linear_regressor) #, ('mlp', mlp)\n",
    "                                   ], weights=[weight(knn), weight(forest), weight(gradient_boosting), weight(linear_regressor)\n",
    "                                               #, weight(mlp)\n",
    "                                               ])\n",
    "ereg = ereg.fit(X_train, y_train)"
   ]
  },
  {
   "cell_type": "code",
   "execution_count": null,
   "metadata": {},
   "outputs": [],
   "source": [
    "evaluate(ereg, X_train, y_train)\n",
    "evaluate(ereg, X_test, y_test)"
   ]
  },
  {
   "cell_type": "markdown",
   "metadata": {},
   "source": [
    "### Stacking "
   ]
  },
  {
   "cell_type": "code",
   "execution_count": 48,
   "metadata": {},
   "outputs": [
    {
     "ename": "",
     "evalue": "",
     "output_type": "error",
     "traceback": [
      "\u001b[1;31mThe Kernel crashed while executing code in the the current cell or a previous cell. Please review the code in the cell(s) to identify a possible cause of the failure. Click <a href='https://aka.ms/vscodeJupyterKernelCrash'>here</a> for more info. View Jupyter <a href='command:jupyter.viewOutput'>log</a> for further details."
     ]
    }
   ],
   "source": [
    "# Ensemble\n",
    "from sklearn.ensemble import StackingRegressor\n",
    "\n",
    "stack = StackingRegressor(estimators=models, final_estimator=LinearRegression())\n",
    "stack = stack.fit(X_train, y_train)"
   ]
  },
  {
   "cell_type": "code",
   "execution_count": null,
   "metadata": {},
   "outputs": [],
   "source": [
    "evaluate(stack, X_train, y_train)\n",
    "evaluate(stack, X_test, y_test)"
   ]
  }
 ],
 "metadata": {
  "kernelspec": {
   "display_name": ".venv",
   "language": "python",
   "name": "python3"
  },
  "language_info": {
   "codemirror_mode": {
    "name": "ipython",
    "version": 3
   },
   "file_extension": ".py",
   "mimetype": "text/x-python",
   "name": "python",
   "nbconvert_exporter": "python",
   "pygments_lexer": "ipython3",
   "version": "3.11.6"
  }
 },
 "nbformat": 4,
 "nbformat_minor": 2
}
